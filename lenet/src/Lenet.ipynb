{
 "cells": [
  {
   "cell_type": "markdown",
   "id": "f41c0fba-f470-4767-a438-beb86f258142",
   "metadata": {},
   "source": [
    "# Import dependencies"
   ]
  },
  {
   "cell_type": "code",
   "execution_count": 61,
   "id": "6aeaf731-afe0-4df9-aef9-392c823855d2",
   "metadata": {},
   "outputs": [],
   "source": [
    "import torch\n",
    "import torch.nn as nn\n",
    "from torchvision.transforms import ToTensor\n",
    "from torchvision.datasets import KMNIST\n",
    "from torch.utils.data import DataLoader, random_split\n",
    "import matplotlib.pyplot as plt\n",
    "from sklearn.metrics import classification_report\n",
    "import time\n",
    "import numpy as np"
   ]
  },
  {
   "cell_type": "markdown",
   "id": "d4b92a48-2d5e-4537-ba37-944d000854e3",
   "metadata": {},
   "source": [
    "# Download dataset"
   ]
  },
  {
   "cell_type": "code",
   "execution_count": 3,
   "id": "04a625fb-e60f-4c51-a782-b4e54b376d03",
   "metadata": {},
   "outputs": [
    {
     "name": "stdout",
     "output_type": "stream",
     "text": [
      "Downloading http://codh.rois.ac.jp/kmnist/dataset/kmnist/train-images-idx3-ubyte.gz\n",
      "Downloading http://codh.rois.ac.jp/kmnist/dataset/kmnist/train-images-idx3-ubyte.gz to data/KMNIST/raw/train-images-idx3-ubyte.gz\n"
     ]
    },
    {
     "name": "stderr",
     "output_type": "stream",
     "text": [
      "100%|██████████████████████████| 18165135/18165135 [00:06<00:00, 2840321.80it/s]\n"
     ]
    },
    {
     "name": "stdout",
     "output_type": "stream",
     "text": [
      "Extracting data/KMNIST/raw/train-images-idx3-ubyte.gz to data/KMNIST/raw\n",
      "\n",
      "Downloading http://codh.rois.ac.jp/kmnist/dataset/kmnist/train-labels-idx1-ubyte.gz\n",
      "Downloading http://codh.rois.ac.jp/kmnist/dataset/kmnist/train-labels-idx1-ubyte.gz to data/KMNIST/raw/train-labels-idx1-ubyte.gz\n"
     ]
    },
    {
     "name": "stderr",
     "output_type": "stream",
     "text": [
      "100%|█████████████████████████████████| 29497/29497 [00:00<00:00, 467430.05it/s]\n"
     ]
    },
    {
     "name": "stdout",
     "output_type": "stream",
     "text": [
      "Extracting data/KMNIST/raw/train-labels-idx1-ubyte.gz to data/KMNIST/raw\n",
      "\n",
      "Downloading http://codh.rois.ac.jp/kmnist/dataset/kmnist/t10k-images-idx3-ubyte.gz\n",
      "Downloading http://codh.rois.ac.jp/kmnist/dataset/kmnist/t10k-images-idx3-ubyte.gz to data/KMNIST/raw/t10k-images-idx3-ubyte.gz\n"
     ]
    },
    {
     "name": "stderr",
     "output_type": "stream",
     "text": [
      "100%|████████████████████████████| 3041136/3041136 [00:01<00:00, 2125047.50it/s]\n"
     ]
    },
    {
     "name": "stdout",
     "output_type": "stream",
     "text": [
      "Extracting data/KMNIST/raw/t10k-images-idx3-ubyte.gz to data/KMNIST/raw\n",
      "\n",
      "Downloading http://codh.rois.ac.jp/kmnist/dataset/kmnist/t10k-labels-idx1-ubyte.gz\n",
      "Downloading http://codh.rois.ac.jp/kmnist/dataset/kmnist/t10k-labels-idx1-ubyte.gz to data/KMNIST/raw/t10k-labels-idx1-ubyte.gz\n"
     ]
    },
    {
     "name": "stderr",
     "output_type": "stream",
     "text": [
      "100%|██████████████████████████████████| 5120/5120 [00:00<00:00, 7710892.81it/s]"
     ]
    },
    {
     "name": "stdout",
     "output_type": "stream",
     "text": [
      "Extracting data/KMNIST/raw/t10k-labels-idx1-ubyte.gz to data/KMNIST/raw\n",
      "\n"
     ]
    },
    {
     "name": "stderr",
     "output_type": "stream",
     "text": [
      "\n"
     ]
    }
   ],
   "source": [
    "training_data = KMNIST(\n",
    "    root='data',\n",
    "    train=True,\n",
    "    download=True,\n",
    "    transform=ToTensor()\n",
    ")\n",
    "\n",
    "test_data = KMNIST(\n",
    "    root='data',\n",
    "    train=False,\n",
    "    download=True,\n",
    "    transform=ToTensor()\n",
    ")"
   ]
  },
  {
   "cell_type": "markdown",
   "id": "3eddb66d-22b5-4f99-9d94-3ffbf6aaf26e",
   "metadata": {},
   "source": [
    "# Implement Lenet"
   ]
  },
  {
   "cell_type": "code",
   "execution_count": 36,
   "id": "eb052abe-3843-43b7-be45-3237f877864b",
   "metadata": {},
   "outputs": [],
   "source": [
    "class Lenet(nn.Module):\n",
    "    def __init__(self, in_channels=1, num_cls=10):\n",
    "        super(Lenet, self).__init__()\n",
    "        self.conv1 = nn.Conv2d(\n",
    "            in_channels=in_channels,\n",
    "            out_channels=20,\n",
    "            kernel_size=(5, 5)\n",
    "        )\n",
    "        self.conv2 = nn.Conv2d(\n",
    "            in_channels=20,\n",
    "            out_channels=50,\n",
    "            kernel_size=(5, 5)\n",
    "        )\n",
    "        self.pool = nn.MaxPool2d(\n",
    "            kernel_size=(2, 2),\n",
    "            stride=(2, 2)\n",
    "        )\n",
    "        self.relu = nn.ReLU()\n",
    "        self.fc1 = nn.Linear(in_features=800, out_features=500)\n",
    "        self.fc2 = nn.Linear(in_features=500, out_features=num_cls)\n",
    "        self.logSoftMax = nn.LogSoftmax(dim=1)\n",
    "\n",
    "    def forward(self, x):\n",
    "        x = self.relu(self.conv1(x))\n",
    "        x = self.pool(x)\n",
    "        x = self.relu(self.conv2(x))\n",
    "        x = self.pool(x)\n",
    "        x = torch.flatten(x, 1)\n",
    "        x = self.relu(self.fc1(x))\n",
    "        x = self.fc2(x)\n",
    "        x = self.logSoftMax(x)\n",
    "        return x"
   ]
  },
  {
   "cell_type": "markdown",
   "id": "18794ce2-8e07-4286-b4dc-5433d075c31b",
   "metadata": {},
   "source": [
    "# Training"
   ]
  },
  {
   "cell_type": "markdown",
   "id": "57cf1163-5e63-4ae8-882f-1bcb43c874c2",
   "metadata": {},
   "source": [
    "## Hyperparameters"
   ]
  },
  {
   "cell_type": "code",
   "execution_count": 17,
   "id": "8667bb77-3978-4db0-ab9e-2db03dac846d",
   "metadata": {},
   "outputs": [],
   "source": [
    "INIT_LR = 0.001\n",
    "EPOCHS = 3\n",
    "BATCH_SIZE = 64\n",
    "\n",
    "TRAIN_SPLIT = 0.75\n",
    "VAL_SPLIT = 0.25"
   ]
  },
  {
   "cell_type": "markdown",
   "id": "06f20718-1fa1-4555-9f6c-f0835a5fb095",
   "metadata": {},
   "source": [
    "## Data loader"
   ]
  },
  {
   "cell_type": "code",
   "execution_count": 18,
   "id": "acd1384e-38ef-471b-a390-4e56a5e4cf1d",
   "metadata": {},
   "outputs": [],
   "source": [
    "numTrainSamples = int(TRAIN_SPLIT*len(training_data))\n",
    "numValSamples = int(VAL_SPLIT*len(training_data))\n",
    "\n",
    "training_data, val_data = random_split(\n",
    "    training_data,\n",
    "    [numTrainSamples, numValSamples],\n",
    "    generator=torch.Generator().manual_seed(42)\n",
    ")"
   ]
  },
  {
   "cell_type": "code",
   "execution_count": 19,
   "id": "c37a16b4-0399-405f-99dc-2d683a9b34ac",
   "metadata": {},
   "outputs": [],
   "source": [
    "train_dataloader = DataLoader(\n",
    "    dataset=training_data, \n",
    "    batch_size=BATCH_SIZE,\n",
    "    shuffle=True\n",
    ")\n",
    "val_dataloader = DataLoader(\n",
    "    dataset=val_data, \n",
    "    batch_size=BATCH_SIZE,\n",
    ")\n",
    "test_dataloader = DataLoader(\n",
    "    dataset=test_data, \n",
    "    batch_size=BATCH_SIZE,\n",
    ")"
   ]
  },
  {
   "cell_type": "markdown",
   "id": "bc36f2ab-5b72-47cc-83a4-60ed88e4e39b",
   "metadata": {},
   "source": [
    "## Model, optimizer and loss function"
   ]
  },
  {
   "cell_type": "code",
   "execution_count": 52,
   "id": "449c5b88-2b2c-4f05-a9be-5b972b5360b7",
   "metadata": {},
   "outputs": [],
   "source": [
    "model = Lenet(\n",
    "    in_channels=1,\n",
    "    num_cls=len(training_data.dataset.classes)\n",
    ")\n",
    "optimizer = torch.optim.Adam(\n",
    "    params=model.parameters(),\n",
    "    lr=INIT_LR\n",
    ")\n",
    "loss_fn = nn.NLLLoss()"
   ]
  },
  {
   "cell_type": "code",
   "execution_count": 53,
   "id": "d9303c84-c38a-4803-8165-b2b77cc84cc4",
   "metadata": {},
   "outputs": [
    {
     "name": "stdout",
     "output_type": "stream",
     "text": [
      "[INFO] Training the network...\n"
     ]
    }
   ],
   "source": [
    "H = {\n",
    "    \"train_loss\": [],\n",
    "    \"train_accuracy\": [],\n",
    "    \"val_loss\": [],\n",
    "    \"val_accuracy\": []\n",
    "}\n",
    "trainSteps = len(train_dataloader) / BATCH_SIZE\n",
    "valSteps = len(val_dataloader) / BATCH_SIZE\n",
    "matplotlib.use(\"Agg\")\n",
    "print('[INFO] Training the network...')"
   ]
  },
  {
   "cell_type": "markdown",
   "id": "6f70ad14-c793-493b-a90d-b1ef39bff43f",
   "metadata": {},
   "source": [
    "## Start training"
   ]
  },
  {
   "cell_type": "code",
   "execution_count": 54,
   "id": "6118300a-92eb-4752-8205-df87f1145b07",
   "metadata": {},
   "outputs": [
    {
     "name": "stdout",
     "output_type": "stream",
     "text": [
      "[INFO] EPOCH: 1/3\n",
      "Train loss: 22.309212, train accuracy: 0.8906\n",
      "Val loss: 8.939799, val accuracy: 0.9592\n",
      "[INFO] EPOCH: 2/3\n",
      "Train loss: 6.136609, train accuracy: 0.9711\n",
      "Val loss: 5.455637, val accuracy: 0.9747\n",
      "[INFO] EPOCH: 3/3\n",
      "Train loss: 3.529879, train accuracy: 0.9832\n",
      "Val loss: 4.991375, val accuracy: 0.9778\n"
     ]
    }
   ],
   "source": [
    "startTime = time.time()\n",
    "model.train()\n",
    "for t in range(EPOCHS):\n",
    "    totalTrainLoss = 0\n",
    "    totalValLoss = 0\n",
    "\n",
    "    trainCorrect = 0\n",
    "    valCorrect = 0\n",
    "    \n",
    "    for (inputs, labels) in train_dataloader:\n",
    "        # forward\n",
    "        outputs = model(inputs)\n",
    "        loss = loss_fn(outputs, labels)\n",
    "    \n",
    "        # backpropagation\n",
    "        optimizer.zero_grad()\n",
    "        loss.backward()\n",
    "        optimizer.step()\n",
    "\n",
    "        totalTrainLoss += loss\n",
    "        trainCorrect += (outputs.argmax(1) == labels).type(torch.float).sum()\n",
    "\n",
    "    with torch.no_grad():\n",
    "        for (inputs, labels) in val_dataloader:\n",
    "            # forward\n",
    "            outputs = model(inputs)\n",
    "            loss = loss_fn(outputs, labels)\n",
    "\n",
    "            totalValLoss += loss\n",
    "            valCorrect += (outputs.argmax(1) == labels).type(torch.float).sum() \n",
    "\n",
    "    avgTrainLoss = totalTrainLoss / trainSteps\n",
    "    avgValLoss = totalValLoss / valSteps\n",
    "\n",
    "    trainCorrect /= len(train_dataloader.dataset)\n",
    "    valCorrect /= len(val_dataloader.dataset)\n",
    "    \n",
    "    H[\"train_loss\"].append(avgTrainLoss.detach().numpy())\n",
    "    H[\"train_accuracy\"].append(trainCorrect.detach().numpy())\n",
    "    H[\"val_loss\"].append(avgValLoss.detach().numpy()) \n",
    "    H[\"val_accuracy\"].append(valCorrect.detach().numpy()) \n",
    "\n",
    "    print(f\"[INFO] EPOCH: {t + 1}/{EPOCHS}\") \n",
    "    print(f\"Train loss: {avgTrainLoss:.6f}, train accuracy: {trainCorrect:.4f}\")\n",
    "    print(f\"Val loss: {avgValLoss:.6f}, val accuracy: {valCorrect:.4f}\")\n",
    "\n",
    "endTime = time.time()"
   ]
  },
  {
   "cell_type": "code",
   "execution_count": 62,
   "id": "aa5adf9e-a0c7-44d0-a097-c3aec4caaaad",
   "metadata": {},
   "outputs": [
    {
     "name": "stdout",
     "output_type": "stream",
     "text": [
      "[INFO] Time taken to train model: 61.949633\n",
      "[INFO] Evaluating network: ...\n",
      "              precision    recall  f1-score   support\n",
      "\n",
      "           o       0.91      0.98      0.94      1000\n",
      "          ki       0.91      0.91      0.91      1000\n",
      "          su       0.94      0.89      0.91      1000\n",
      "         tsu       0.91      0.97      0.94      1000\n",
      "          na       0.93      0.92      0.92      1000\n",
      "          ha       0.97      0.92      0.95      1000\n",
      "          ma       0.86      0.98      0.92      1000\n",
      "          ya       0.98      0.88      0.93      1000\n",
      "          re       0.96      0.91      0.93      1000\n",
      "          wo       0.97      0.95      0.96      1000\n",
      "\n",
      "    accuracy                           0.93     10000\n",
      "   macro avg       0.93      0.93      0.93     10000\n",
      "weighted avg       0.93      0.93      0.93     10000\n",
      "\n"
     ]
    }
   ],
   "source": [
    "print(f\"[INFO] Time taken to train model: {endTime - startTime:2f}\")\n",
    "\n",
    "print(\"[INFO] Evaluating network: ...\")\n",
    "\n",
    "with torch.no_grad():\n",
    "    model.eval()\n",
    "    preds = []\n",
    "\n",
    "    for (inputs, labels) in test_dataloader:\n",
    "        outputs = model(inputs)\n",
    "        loss = loss_fn(outputs, labels)\n",
    "\n",
    "        preds.extend(outputs.argmax(1).cpu().numpy())\n",
    "\n",
    "print(\n",
    "    classification_report(\n",
    "        test_data.targets.cpu().numpy(), \n",
    "        np.array(preds), \n",
    "        target_names=test_data.classes\n",
    "    )\n",
    ")"
   ]
  },
  {
   "cell_type": "code",
   "execution_count": 64,
   "id": "157a01a8-a715-4e6d-9aa3-f2cb9120ccff",
   "metadata": {},
   "outputs": [],
   "source": [
    "plt.style.use('ggplot')\n",
    "plt.figure()\n",
    "plt.plot(H['train_loss'], label='train_loss')\n",
    "plt.plot(H['val_loss'], label='val_loss')\n",
    "plt.title('Training loss and accuracy on dataset')\n",
    "plt.xlabel('Epochs')\n",
    "plt.ylabel('Loss')\n",
    "plt.legend(loc='lower left')\n",
    "plt.savefig('./figures/Loss.png')\n",
    "\n",
    "plt.figure()\n",
    "plt.plot(H['train_accuracy'], label='train_accuracy')\n",
    "plt.plot(H['val_accuracy'], label='val_accuracy')\n",
    "plt.title('Training loss and accuracy on dataset')\n",
    "plt.xlabel('Epochs')\n",
    "plt.ylabel('Accuracy')\n",
    "plt.legend(loc='lower left')\n",
    "plt.savefig('./figures/Accuracy.png')\n",
    "\n",
    "torch.save(model, './model/test_model')"
   ]
  },
  {
   "cell_type": "code",
   "execution_count": null,
   "id": "732797a1-aaf6-4e2f-ac3a-a8b609562601",
   "metadata": {},
   "outputs": [],
   "source": []
  },
  {
   "cell_type": "code",
   "execution_count": null,
   "id": "c19fcd92-2a4f-4128-8576-e785ecf87bb4",
   "metadata": {},
   "outputs": [],
   "source": []
  }
 ],
 "metadata": {
  "kernelspec": {
   "display_name": "Python 3 (ipykernel)",
   "language": "python",
   "name": "python3"
  },
  "language_info": {
   "codemirror_mode": {
    "name": "ipython",
    "version": 3
   },
   "file_extension": ".py",
   "mimetype": "text/x-python",
   "name": "python",
   "nbconvert_exporter": "python",
   "pygments_lexer": "ipython3",
   "version": "3.8.10"
  }
 },
 "nbformat": 4,
 "nbformat_minor": 5
}
