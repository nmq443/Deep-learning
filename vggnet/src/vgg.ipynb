{
 "cells": [
  {
   "cell_type": "markdown",
   "id": "cbf54047-26e8-497e-aef2-e098f8726473",
   "metadata": {},
   "source": [
    "# Import dependencies"
   ]
  },
  {
   "cell_type": "code",
   "execution_count": 28,
   "id": "87b11990-43ca-406a-9b9e-f65d2f97d51e",
   "metadata": {},
   "outputs": [],
   "source": [
    "import torch\n",
    "from torch.utils.data import random_split, DataLoader\n",
    "import torch.nn as nn\n",
    "from torchvision.datasets import FashionMNIST\n",
    "import torchvision.transforms as transforms\n",
    "import matplotlib\n",
    "import matplotlib.pyplot as plt\n",
    "import numpy \n",
    "import time"
   ]
  },
  {
   "cell_type": "markdown",
   "id": "87117fb9-9334-490e-9607-43c89a14f2f4",
   "metadata": {},
   "source": [
    "# Data preparation"
   ]
  },
  {
   "cell_type": "code",
   "execution_count": 36,
   "id": "fa5ce575-d2ad-4564-bc0e-8568621a0fec",
   "metadata": {},
   "outputs": [],
   "source": [
    "transform = transforms.Compose([\n",
    "    transforms.Resize((224, 224)),\n",
    "    transforms.ToTensor(),\n",
    "    transforms.Normalize(\n",
    "        (0.5), (0.5)\n",
    "    )\n",
    "])\n",
    "\n",
    "train_data = FashionMNIST(\n",
    "    root='./data',\n",
    "    train=True,\n",
    "    download=True,\n",
    "    transform = transform\n",
    ")\n",
    "\n",
    "test_data = FashionMNIST(\n",
    "    root='./data',\n",
    "    train=False,\n",
    "    download=True,\n",
    "    transform = transform\n",
    ")"
   ]
  },
  {
   "cell_type": "markdown",
   "id": "697260bf-6c1d-456f-ba19-dd5d9650ba11",
   "metadata": {},
   "source": [
    "# Define VGG network"
   ]
  },
  {
   "cell_type": "code",
   "execution_count": 17,
   "id": "3c300f1b-963d-4999-93fc-60f5a22922cf",
   "metadata": {},
   "outputs": [],
   "source": [
    "def vgg_block(num_convs, num_channels):\n",
    "    layers = []\n",
    "    for i in range(num_convs):\n",
    "        layers.append(\n",
    "            nn.LazyConv2d(\n",
    "                out_channels=num_channels,\n",
    "                kernel_size=(3, 3),\n",
    "                padding=1\n",
    "            )\n",
    "        )\n",
    "        layers.append(nn.ReLU())\n",
    "    layers.append(\n",
    "        nn.MaxPool2d(\n",
    "            kernel_size=(2, 2),\n",
    "            stride=2\n",
    "        )\n",
    "    )\n",
    "    return nn.Sequential(*layers)\n",
    "        \n",
    "class VGG(nn.Module):\n",
    "    def __init__(self, arch, num_classes=10):\n",
    "        super(VGG, self).__init__()\n",
    "        conv_blks = []\n",
    "        \n",
    "        for (num_convs, num_channels) in arch:\n",
    "            conv_blks.append(vgg_block(num_convs, num_channels))\n",
    "         \n",
    "        self.net = nn.Sequential(\n",
    "            *conv_blks,\n",
    "            nn.Flatten(),\n",
    "            nn.Linear(25088, 4096),\n",
    "            nn.Linear(4096, 4096),\n",
    "            nn.Linear(4096, num_classes)\n",
    "        )\n",
    "        \n",
    "    def forward(self, x):\n",
    "        return self.net(x)"
   ]
  },
  {
   "cell_type": "markdown",
   "id": "8e595416-3141-4274-8d86-bc861ba760bf",
   "metadata": {},
   "source": [
    "# Training"
   ]
  },
  {
   "cell_type": "markdown",
   "id": "f08e6ca2-6929-4e4a-b26f-14c171a38661",
   "metadata": {},
   "source": [
    "## Hyperparameters"
   ]
  },
  {
   "cell_type": "code",
   "execution_count": 52,
   "id": "ee604904-ced6-448d-bf5a-eba3e1346ff7",
   "metadata": {},
   "outputs": [
    {
     "name": "stderr",
     "output_type": "stream",
     "text": [
      "/home/quang/miniconda3/envs/deeplearning/lib/python3.12/site-packages/torch/nn/modules/lazy.py:181: UserWarning: Lazy modules are a new feature under heavy development so changes to the API or functionality can happen at any moment.\n",
      "  warnings.warn('Lazy modules are a new feature under heavy development '\n"
     ]
    }
   ],
   "source": [
    "EPOCHS = 20\n",
    "LR = 0.001\n",
    "BATCH_SIZE = 16\n",
    "WEIGHT_DECAY = 0.01\n",
    "MOMENTUM = 0.9\n",
    "DEVICE = 'cuda' if torch.cuda.is_available() else 'cpu'\n",
    "\n",
    "TRAIN_RATIO = 0.75\n",
    "VAL_RATIO = 1 - TRAIN_RATIO\n",
    "TRAIN_SIZE = int(len(train_data) * TRAIN_RATIO)\n",
    "VAL_SIZE = len(train_data) - TRAIN_SIZE\n",
    "\n",
    "arch = ((1, 64), (1, 128), (2, 256), (2, 512), (2, 512))\n",
    "model = VGG(arch).to(DEVICE)\n",
    "\n",
    "optimizer = torch.optim.SGD(\n",
    "    model.parameters(),\n",
    "    lr=LR,\n",
    "    weight_decay=WEIGHT_DECAY,\n",
    "    momentum=MOMENTUM\n",
    ")\n",
    "criterion = nn.CrossEntropyLoss()"
   ]
  },
  {
   "cell_type": "markdown",
   "id": "9521122a-17f3-453f-b289-9e1d256ab98e",
   "metadata": {},
   "source": [
    "## Split training dataset into train and validation dataset"
   ]
  },
  {
   "cell_type": "code",
   "execution_count": 38,
   "id": "4bc235f9-0b9e-4007-9878-4b42aeac3202",
   "metadata": {},
   "outputs": [],
   "source": [
    "train_data, val_data = random_split(\n",
    "    dataset=train_data,\n",
    "    lengths=[TRAIN_SIZE, VAL_SIZE],\n",
    "    generator=torch.Generator().manual_seed(42)\n",
    ")"
   ]
  },
  {
   "cell_type": "markdown",
   "id": "165adff8-47a2-4a3f-a492-2518d3866977",
   "metadata": {},
   "source": [
    "## Data loaders"
   ]
  },
  {
   "cell_type": "code",
   "execution_count": 39,
   "id": "b7f42d23-fce2-4434-8107-49ba028e689d",
   "metadata": {},
   "outputs": [],
   "source": [
    "train_loader = DataLoader(\n",
    "    dataset=train_data,\n",
    "    shuffle=True,\n",
    "    batch_size=BATCH_SIZE\n",
    ")\n",
    "\n",
    "val_loader = DataLoader(\n",
    "    dataset=val_data,\n",
    "    batch_size=BATCH_SIZE\n",
    ")\n",
    "\n",
    "test_loader = DataLoader(\n",
    "    dataset=test_data,\n",
    "    batch_size=BATCH_SIZE\n",
    ")"
   ]
  },
  {
   "cell_type": "markdown",
   "id": "9f6d7503-1a6b-434b-90cf-3db9992a2df8",
   "metadata": {},
   "source": [
    "## For plotting"
   ]
  },
  {
   "cell_type": "code",
   "execution_count": 44,
   "id": "4b3d84e2-660c-45ff-af18-1a768b57825a",
   "metadata": {},
   "outputs": [],
   "source": [
    "matplotlib.use(\"Agg\")\n",
    "H = {\n",
    "    'avg_train_loss': [],\n",
    "    'avg_val_loss': [],\n",
    "    'train_acc': [],\n",
    "    'val_acc': []\n",
    "}"
   ]
  },
  {
   "cell_type": "markdown",
   "id": "a33ea640-df17-469c-9e29-70a85673422d",
   "metadata": {},
   "source": [
    "## Train"
   ]
  },
  {
   "cell_type": "code",
   "execution_count": 45,
   "id": "c9dc0c18-e58e-42e0-ae9d-581526be71eb",
   "metadata": {},
   "outputs": [
    {
     "name": "stdout",
     "output_type": "stream",
     "text": [
      "[INFO] Start training ...\n",
      "[INFO] Epoch 0/1\n",
      "Training loss: 0.143948, training accuracy: 0.09996\n",
      "Validation loss: 0.144028, validation accuracy: 0.09660\n",
      "[INFO] Done!\n",
      "[INFO] Training took  804.1537 sec\n"
     ]
    }
   ],
   "source": [
    "start_time = time.time()\n",
    "print('[INFO] Start training ...')\n",
    "\n",
    "for epoch in range(EPOCHS):\n",
    "    total_train_loss = 0\n",
    "    total_val_loss = 0\n",
    "    train_acc = 0\n",
    "    val_acc = 0\n",
    "\n",
    "    # set model to train mode\n",
    "    model.train()\n",
    "\n",
    "    for batch_idx, (X, y) in enumerate(train_loader):\n",
    "        X, y = X.to(DEVICE), y.to(DEVICE)\n",
    "        # feed forward\n",
    "        pred = model(X)\n",
    "        loss = criterion(pred, y)\n",
    "\n",
    "        # backpropagation\n",
    "        optimizer.zero_grad()\n",
    "        loss.backward()\n",
    "        optimizer.step()\n",
    "\n",
    "        total_train_loss += loss.item()\n",
    "        train_acc += (pred.argmax(1) == y).type(torch.float).sum().item()\n",
    "\n",
    "    # validation\n",
    "    with torch.no_grad():\n",
    "        model.eval()\n",
    "\n",
    "        for batch_idx, (X, y) in enumerate(val_loader):\n",
    "            X, y = X.to(DEVICE), y.to(DEVICE)\n",
    "            pred = model(X)\n",
    "            loss = criterion(pred, y)\n",
    "\n",
    "            total_val_loss += loss.item()\n",
    "            val_acc += (pred.argmax(1) == y).type(torch.float).sum().item()            \n",
    "\n",
    "    total_train_loss /= len(train_loader.sampler)\n",
    "    total_val_loss /= len(val_loader.sampler)\n",
    "    train_acc /= len(train_loader.dataset)\n",
    "    val_acc /= len(val_loader.dataset)\n",
    "    \n",
    "    H['avg_train_loss'].append(total_train_loss)\n",
    "    H['avg_val_loss'].append(total_val_loss)\n",
    "    H['train_acc'].append(train_acc)\n",
    "    H['val_acc'].append(val_acc)\n",
    "\n",
    "    print(f'[INFO] Epoch {epoch}/{EPOCHS}')\n",
    "    print(f'Training loss: {total_train_loss:5f}, training accuracy: {train_acc:.5f}')\n",
    "    print(f'Validation loss: {total_val_loss:5f}, validation accuracy: {val_acc:.5f}')\n",
    "\n",
    "\n",
    "end_time = time.time()\n",
    "print('[INFO] Done!')\n",
    "print(f'[INFO] Training took {end_time - start_time: .4f} sec')"
   ]
  },
  {
   "cell_type": "code",
   "execution_count": 51,
   "id": "9bbfc2c6-5e7d-44f6-b65d-b251ea962342",
   "metadata": {},
   "outputs": [],
   "source": [
    "plt.style.use('ggplot')\n",
    "plt.figure()\n",
    "plt.plot(H['avg_train_loss'], label='avg_train_loss')\n",
    "plt.plot(H['avg_val_loss'], label='avg_val_loss')\n",
    "plt.xlabel('Epoch')\n",
    "plt.ylabel('Loss')\n",
    "plt.savefig('./loss.png')\n",
    "\n",
    "plt.figure()\n",
    "plt.plot(H['train_acc'], label='train_acc')\n",
    "plt.plot(H['val_acc'], label='val_acc')\n",
    "plt.xlabel('Epoch')\n",
    "plt.ylabel('Accuracy')\n",
    "plt.savefig('./acc.png')"
   ]
  },
  {
   "cell_type": "code",
   "execution_count": 58,
   "id": "c82ae828-0dfa-4818-8340-56ca1efac706",
   "metadata": {},
   "outputs": [
    {
     "name": "stdout",
     "output_type": "stream",
     "text": [
      "Feature batch shape: torch.Size([16, 1, 224, 224])\n",
      "Labels batch shape: torch.Size([16])\n",
      "Label: 9\n"
     ]
    },
    {
     "name": "stderr",
     "output_type": "stream",
     "text": [
      "/tmp/ipykernel_50995/220956050.py:7: UserWarning: FigureCanvasAgg is non-interactive, and thus cannot be shown\n",
      "  plt.show()\n"
     ]
    }
   ],
   "source": [
    "test_features, test_labels = next(iter(test_loader))\n",
    "print(f\"Feature batch shape: {test_features.size()}\")\n",
    "print(f\"Labels batch shape: {test_labels.size()}\")\n",
    "img = test_features[0].squeeze()\n",
    "label = test_labels[0]\n",
    "plt.imshow(img, cmap=\"gray\")\n",
    "plt.show()\n",
    "print(f\"Label: {label}\")"
   ]
  },
  {
   "cell_type": "code",
   "execution_count": 62,
   "id": "9712a681-8ed6-4cb4-abc7-d1bb2dcf158d",
   "metadata": {},
   "outputs": [
    {
     "name": "stdout",
     "output_type": "stream",
     "text": [
      "              precision    recall  f1-score   support\n",
      "\n",
      " T-shirt/top       0.00      0.00      0.00      1000\n",
      "     Trouser       0.00      0.00      0.00      1000\n",
      "    Pullover       0.00      0.00      0.00      1000\n",
      "       Dress       0.00      0.00      0.00      1000\n",
      "        Coat       0.00      0.00      0.00      1000\n",
      "      Sandal       0.00      0.00      0.00      1000\n",
      "       Shirt       0.00      0.00      0.00      1000\n",
      "     Sneaker       0.00      0.00      0.00      1000\n",
      "         Bag       0.00      0.00      0.00      1000\n",
      "  Ankle boot       0.10      1.00      0.18      1000\n",
      "\n",
      "    accuracy                           0.10     10000\n",
      "   macro avg       0.01      0.10      0.02     10000\n",
      "weighted avg       0.01      0.10      0.02     10000\n",
      "\n"
     ]
    },
    {
     "name": "stderr",
     "output_type": "stream",
     "text": [
      "/home/quang/miniconda3/envs/deeplearning/lib/python3.12/site-packages/sklearn/metrics/_classification.py:1469: UndefinedMetricWarning: Precision and F-score are ill-defined and being set to 0.0 in labels with no predicted samples. Use `zero_division` parameter to control this behavior.\n",
      "  _warn_prf(average, modifier, msg_start, len(result))\n",
      "/home/quang/miniconda3/envs/deeplearning/lib/python3.12/site-packages/sklearn/metrics/_classification.py:1469: UndefinedMetricWarning: Precision and F-score are ill-defined and being set to 0.0 in labels with no predicted samples. Use `zero_division` parameter to control this behavior.\n",
      "  _warn_prf(average, modifier, msg_start, len(result))\n",
      "/home/quang/miniconda3/envs/deeplearning/lib/python3.12/site-packages/sklearn/metrics/_classification.py:1469: UndefinedMetricWarning: Precision and F-score are ill-defined and being set to 0.0 in labels with no predicted samples. Use `zero_division` parameter to control this behavior.\n",
      "  _warn_prf(average, modifier, msg_start, len(result))\n"
     ]
    }
   ],
   "source": [
    "from sklearn.metrics import classification_report\n",
    "import numpy as np\n",
    "\n",
    "with torch.no_grad():\n",
    "    preds = []\n",
    "    model.eval()\n",
    "    for batch_idx, (X, y) in enumerate(test_loader):\n",
    "        X, y = X.to(DEVICE), y.to(DEVICE)\n",
    "        pred = model(X)\n",
    "        loss = criterion(pred, y)\n",
    "        \n",
    "        preds.extend(pred.argmax(1).cpu().numpy())\n",
    "    print(\n",
    "        classification_report(\n",
    "            y_true=test_data.targets.cpu().numpy(),\n",
    "            y_pred=np.array(preds),\n",
    "            target_names=test_data.classes\n",
    "        )\n",
    "    )"
   ]
  },
  {
   "cell_type": "code",
   "execution_count": null,
   "id": "e6dc363c-dfba-4625-9fd6-8271ee000553",
   "metadata": {},
   "outputs": [],
   "source": []
  }
 ],
 "metadata": {
  "kernelspec": {
   "display_name": "Python 3 (ipykernel)",
   "language": "python",
   "name": "python3"
  },
  "language_info": {
   "codemirror_mode": {
    "name": "ipython",
    "version": 3
   },
   "file_extension": ".py",
   "mimetype": "text/x-python",
   "name": "python",
   "nbconvert_exporter": "python",
   "pygments_lexer": "ipython3",
   "version": "3.12.2"
  }
 },
 "nbformat": 4,
 "nbformat_minor": 5
}
