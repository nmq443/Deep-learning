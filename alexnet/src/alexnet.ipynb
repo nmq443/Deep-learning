{
 "cells": [
  {
   "cell_type": "markdown",
   "id": "35a4f881-b4a6-473f-99b2-6e7e1adab7c0",
   "metadata": {},
   "source": [
    "# Import dependencies"
   ]
  },
  {
   "cell_type": "code",
   "execution_count": 1,
   "id": "2432aa28-e027-40f2-a282-42e4a92a51b6",
   "metadata": {},
   "outputs": [],
   "source": [
    "import torch\n",
    "import torch.nn as nn\n",
    "import torchvision.transforms as transforms\n",
    "from torchvision.datasets import CIFAR10\n",
    "from torch.utils.data import DataLoader, random_split\n",
    "import numpy as np\n",
    "import matplotlib.pyplot as plt\n",
    "import matplotlib\n",
    "import time"
   ]
  },
  {
   "cell_type": "markdown",
   "id": "cf6e58a8-4d2a-4224-8b62-3910f9f2ad0e",
   "metadata": {},
   "source": [
    "# Download data"
   ]
  },
  {
   "cell_type": "markdown",
   "id": "1a38192b-ace3-4356-a604-f5b461481eb4",
   "metadata": {},
   "source": [
    "## Set transforms"
   ]
  },
  {
   "cell_type": "code",
   "execution_count": 14,
   "id": "559020cd-0f89-43d9-9a8b-ed302231ac2c",
   "metadata": {},
   "outputs": [],
   "source": [
    "transform = transforms.Compose([\n",
    "    transforms.Resize((228, 228)),\n",
    "    transforms.ToTensor(),\n",
    "    transforms.Normalize(\n",
    "        mean=[0.5, 0.5, 0.5],\n",
    "        std=[0.5, 0.5, 0.5]\n",
    "    )\n",
    "])"
   ]
  },
  {
   "cell_type": "code",
   "execution_count": 15,
   "id": "0555a948-cc11-4632-8901-7e2dab6b2756",
   "metadata": {},
   "outputs": [
    {
     "name": "stdout",
     "output_type": "stream",
     "text": [
      "Files already downloaded and verified\n",
      "Files already downloaded and verified\n"
     ]
    }
   ],
   "source": [
    "training_data = CIFAR10(\n",
    "    root='data',\n",
    "    train=True,\n",
    "    transform=transform,\n",
    "    download=True\n",
    ")\n",
    "\n",
    "test_data = CIFAR10(\n",
    "    root='data',\n",
    "    train=True,\n",
    "    transform=transform,\n",
    "    download=True\n",
    ")"
   ]
  },
  {
   "cell_type": "markdown",
   "id": "18230f51-0f5d-462a-ab70-2265ea498c87",
   "metadata": {},
   "source": [
    "# Define AlexNet network"
   ]
  },
  {
   "cell_type": "code",
   "execution_count": 3,
   "id": "d8abb373-69d2-429b-873d-4dbadbeb5342",
   "metadata": {},
   "outputs": [],
   "source": [
    "class AlexNet(nn.Module):\n",
    "    def __init__(self, in_channels=3, num_cls=10):\n",
    "        super(AlexNet, self).__init__()\n",
    "        self.layer1 = nn.Sequential(\n",
    "            nn.Conv2d(\n",
    "                in_channels=in_channels,\n",
    "                out_channels=96,\n",
    "                kernel_size=(11, 11),\n",
    "                stride=4,\n",
    "                padding=0\n",
    "            ),\n",
    "            nn.ReLU(),\n",
    "            nn.MaxPool2d(\n",
    "                kernel_size=(3, 3),\n",
    "                stride=2\n",
    "            )\n",
    "        )\n",
    "        \n",
    "        self.layer2 = nn.Sequential(\n",
    "            nn.Conv2d(\n",
    "                in_channels=96,\n",
    "                out_channels=256,\n",
    "                kernel_size=(5, 5),\n",
    "                stride=1,\n",
    "                padding=2\n",
    "            ),\n",
    "            nn.ReLU(),\n",
    "            nn.MaxPool2d(\n",
    "                kernel_size=(3, 3),\n",
    "                stride=2\n",
    "            )\n",
    "        )\n",
    "        \n",
    "        self.layer3 = nn.Sequential(\n",
    "            nn.Conv2d(\n",
    "                in_channels=256,\n",
    "                out_channels=384,\n",
    "                kernel_size=(3, 3),\n",
    "                padding=1\n",
    "            ),\n",
    "            nn.ReLU()\n",
    "        )\n",
    "        \n",
    "        self.layer4 = nn.Sequential(\n",
    "            nn.Conv2d(\n",
    "                in_channels=384,\n",
    "                out_channels=384,\n",
    "                kernel_size=(3, 3),\n",
    "                padding=1,\n",
    "                stride=1\n",
    "            ),\n",
    "            nn.ReLU()\n",
    "        )\n",
    "        \n",
    "        self.layer5 = nn.Sequential(\n",
    "            nn.Conv2d(\n",
    "                in_channels=384,\n",
    "                out_channels=256,\n",
    "                kernel_size=(3, 3),\n",
    "                padding=1,\n",
    "                stride=1\n",
    "            ),\n",
    "            nn.ReLU(),\n",
    "            nn.MaxPool2d(\n",
    "                kernel_size=(3, 3),\n",
    "                stride=2\n",
    "            )\n",
    "        )\n",
    "        \n",
    "        self.fc1 = nn.Sequential(\n",
    "            nn.Linear(9216, 4096),\n",
    "            nn.ReLU()\n",
    "        )\n",
    "        self.fc2 = nn.Sequential(\n",
    "            nn.Linear(4096, 4096),\n",
    "            nn.ReLU()\n",
    "        )\n",
    "        self.fc3 = nn.Linear(4096, num_cls)\n",
    "        \n",
    "    def forward(self, x):\n",
    "        x = self.layer1(x)\n",
    "        x = self.layer2(x)\n",
    "        x = self.layer3(x)\n",
    "        x = self.layer4(x)\n",
    "        x = self.layer5(x)\n",
    "        x = torch.flatten(x, 1)\n",
    "        x = self.fc1(x)\n",
    "        x = self.fc2(x)\n",
    "        x = self.fc3(x)\n",
    "        return x"
   ]
  },
  {
   "cell_type": "markdown",
   "id": "cec06cd3-75a8-4be6-9878-42e87edab887",
   "metadata": {},
   "source": [
    "# Training"
   ]
  },
  {
   "cell_type": "markdown",
   "id": "c83b553b-7346-4bb3-a228-7f90a2f950b4",
   "metadata": {},
   "source": [
    "## Hyperparameters"
   ]
  },
  {
   "cell_type": "code",
   "execution_count": 16,
   "id": "518cd085-5e07-407a-af37-86a4ef2f98f7",
   "metadata": {},
   "outputs": [],
   "source": [
    "LR = 0.001\n",
    "EPOCHS = 3\n",
    "BATCH_SIZE = 64\n",
    "\n",
    "TRAIN_SPLIT = 0.75\n",
    "VAL_SPLIT = 0.25\n",
    "\n",
    "TRAIN_SIZE = int(TRAIN_SPLIT * len(training_data))\n",
    "VAL_SIZE = int(VAL_SPLIT * len(training_data))\n",
    "\n",
    "training_data, val_data = random_split(\n",
    "    training_data,\n",
    "    [TRAIN_SIZE, VAL_SIZE],\n",
    "    torch.Generator().manual_seed(42)\n",
    ")"
   ]
  },
  {
   "cell_type": "markdown",
   "id": "fccdd833-902e-463d-82d1-8946a36fa837",
   "metadata": {},
   "source": [
    "## Dataloader"
   ]
  },
  {
   "cell_type": "code",
   "execution_count": 17,
   "id": "b7eba6be-6006-4f66-a44f-2add9b6f4488",
   "metadata": {},
   "outputs": [],
   "source": [
    "train_dataloader = DataLoader(\n",
    "    dataset=training_data,\n",
    "    batch_size=BATCH_SIZE,\n",
    "    shuffle=True\n",
    ")\n",
    "test_dataloader = DataLoader(\n",
    "    dataset=test_data,\n",
    "    batch_size=BATCH_SIZE,\n",
    ")\n",
    "val_dataloader = DataLoader(\n",
    "    dataset=val_data,\n",
    "    batch_size=BATCH_SIZE,\n",
    ")"
   ]
  },
  {
   "cell_type": "markdown",
   "id": "6aa63cc4-1dff-47ec-b455-a67ff888c0ac",
   "metadata": {},
   "source": [
    "## For plotting"
   ]
  },
  {
   "cell_type": "code",
   "execution_count": 18,
   "id": "feb0fdf4-04ec-4aac-b542-ff099746c94e",
   "metadata": {},
   "outputs": [],
   "source": [
    "matplotlib.use(\"Agg\")\n",
    "H = {\n",
    "    'avg_train_loss': [],\n",
    "    'train_acc': [],\n",
    "    'avg_val_loss': [],\n",
    "    'val_acc': [],\n",
    "}\n",
    "train_steps = len(train_dataloader) / BATCH_SIZE\n",
    "val_steps = len(val_dataloader) / BATCH_SIZE"
   ]
  },
  {
   "cell_type": "markdown",
   "id": "834a800c-1333-42b2-b89d-47e0ab2e38f8",
   "metadata": {},
   "source": [
    "## Model, loss function and optimizer\n",
    "I use Cross Entropy Loss with Adam optimizer"
   ]
  },
  {
   "cell_type": "code",
   "execution_count": 19,
   "id": "81bd8176-62cf-4f3f-9aff-db1e5f2364b7",
   "metadata": {},
   "outputs": [],
   "source": [
    "model = AlexNet()\n",
    "criterion = nn.CrossEntropyLoss() \n",
    "optimizer = torch.optim.Adam(\n",
    "    model.parameters(),\n",
    "    lr=LR\n",
    ")"
   ]
  },
  {
   "cell_type": "markdown",
   "id": "4331ea85-7b29-4024-9ae1-ab6b27ba1a88",
   "metadata": {},
   "source": [
    "## Train loop"
   ]
  },
  {
   "cell_type": "code",
   "execution_count": null,
   "id": "a933ef48-1885-48b4-9547-a64b4f712be1",
   "metadata": {},
   "outputs": [
    {
     "name": "stdout",
     "output_type": "stream",
     "text": [
      "[INFO] Start training the network ...\n",
      "[INFO]: Epoch 1/3\n",
      "Train loss: 109.419472, train accuracy: 0.365840%\n",
      "Val loss: 91.500542, val accuracy: 0.476480%\n"
     ]
    }
   ],
   "source": [
    "print('[INFO] Start training the network ...')\n",
    "start_time = time.time()\n",
    "for t in range(EPOCHS):\n",
    "    total_train_loss = 0\n",
    "    total_val_loss = 0\n",
    "    train_correct = 0\n",
    "    val_correct = 0\n",
    "\n",
    "    # training\n",
    "    model.train()\n",
    "    for (inputs, labels) in train_dataloader:\n",
    "        # forward\n",
    "        outputs = model(inputs)\n",
    "        loss = criterion(outputs, labels)\n",
    "\n",
    "        # backpropagation\n",
    "        optimizer.zero_grad()\n",
    "        loss.backward()\n",
    "        optimizer.step()\n",
    "\n",
    "        total_train_loss += loss\n",
    "        train_correct += (outputs.argmax(1) == labels).type(torch.float).sum().item()\n",
    "\n",
    "    avg_train_loss = total_train_loss / train_steps\n",
    "    train_correct /= len(train_dataloader.dataset)\n",
    "\n",
    "    # validation\n",
    "    with torch.no_grad():\n",
    "        for (inputs, labels) in val_dataloader:\n",
    "            outputs = model(inputs)\n",
    "            loss = criterion(outputs, labels)\n",
    "\n",
    "            total_val_loss += loss\n",
    "            val_correct += (outputs.argmax(1) == labels).type(torch.float).sum().item()\n",
    "\n",
    "    avg_val_loss = total_val_loss / val_steps\n",
    "    val_correct /= len(val_dataloader.dataset)\n",
    "\n",
    "    # history\n",
    "    H['avg_train_loss'].append(avg_train_loss)\n",
    "    H['avg_val_loss'].append(avg_val_loss)\n",
    "    H['train_acc'].append(train_correct)\n",
    "    H['val_acc'].append(val_correct)\n",
    "\n",
    "    print(f'[INFO]: Epoch {t + 1}/{EPOCHS}')\n",
    "    print(f'Train loss: {avg_train_loss:.6f}, train accuracy: {train_correct:4f}%')\n",
    "    print(f'Val loss: {avg_val_loss:.6f}, val accuracy: {val_correct:4f}%')\n",
    "\n",
    "end_time = time.time()\n",
    "print(f'[INFO] Training taken {end_time - start_time:.4f}')"
   ]
  },
  {
   "cell_type": "code",
   "execution_count": null,
   "id": "b5d7a52e-464e-45d6-a69d-99fd02b20cac",
   "metadata": {},
   "outputs": [],
   "source": []
  }
 ],
 "metadata": {
  "kernelspec": {
   "display_name": "Python 3 (ipykernel)",
   "language": "python",
   "name": "python3"
  },
  "language_info": {
   "codemirror_mode": {
    "name": "ipython",
    "version": 3
   },
   "file_extension": ".py",
   "mimetype": "text/x-python",
   "name": "python",
   "nbconvert_exporter": "python",
   "pygments_lexer": "ipython3",
   "version": "3.12.2"
  }
 },
 "nbformat": 4,
 "nbformat_minor": 5
}
